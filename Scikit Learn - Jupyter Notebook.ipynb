{
 "cells": [
  {
   "cell_type": "code",
   "execution_count": 1,
   "id": "ultimate-gilbert",
   "metadata": {},
   "outputs": [],
   "source": [
    "from sklearn import datasets\n",
    "from sklearn.model_selection import train_test_split\n",
    "\n",
    "from sklearn.tree import DecisionTreeClassifier\n",
    "from sklearn.naive_bayes import GaussianNB\n",
    "from sklearn.linear_model import LogisticRegression\n",
    "from sklearn.neighbors import KNeighborsClassifier\n",
    "from sklearn.neural_network import MLPClassifier\n",
    "from sklearn.dummy import DummyClassifier #classificador ruim\n",
    "\n",
    "from sklearn.pipeline import make_pipeline\n",
    "from sklearn.preprocessing import StandardScaler\n",
    "from sklearn.metrics import classification_report, confusion_matrix\n",
    "\n",
    "from sklearn.model_selection import cross_validate\n",
    "from sklearn.model_selection import GridSearchCV"
   ]
  },
  {
   "cell_type": "code",
   "execution_count": 2,
   "id": "enabling-england",
   "metadata": {},
   "outputs": [
    {
     "name": "stdout",
     "output_type": "stream",
     "text": [
      "dict_keys(['data', 'target', 'frame', 'target_names', 'DESCR', 'feature_names', 'filename'])\n",
      ".. _iris_dataset:\n",
      "\n",
      "Iris plants dataset\n",
      "--------------------\n",
      "\n",
      "**Data Set Characteristics:**\n",
      "\n",
      "    :Number of Instances: 150 (50 in each of three classes)\n",
      "    :Number of Attributes: 4 numeric, predictive attributes and the class\n",
      "    :Attribute Information:\n",
      "        - sepal length in cm\n",
      "        - sepal width in cm\n",
      "        - petal length in cm\n",
      "        - petal width in cm\n",
      "        - class:\n",
      "                - Iris-Setosa\n",
      "                - Iris-Versicolour\n",
      "                - Iris-Virginica\n",
      "                \n",
      "    :Summary Statistics:\n",
      "\n",
      "    ============== ==== ==== ======= ===== ====================\n",
      "                    Min  Max   Mean    SD   Class Correlation\n",
      "    ============== ==== ==== ======= ===== ====================\n",
      "    sepal length:   4.3  7.9   5.84   0.83    0.7826\n",
      "    sepal width:    2.0  4.4   3.05   0.43   -0.4194\n",
      "    petal length:   1.0  6.9   3.76   1.76    0.9490  (high!)\n",
      "    petal width:    0.1  2.5   1.20   0.76    0.9565  (high!)\n",
      "    ============== ==== ==== ======= ===== ====================\n",
      "\n",
      "    :Missing Attribute Values: None\n",
      "    :Class Distribution: 33.3% for each of 3 classes.\n",
      "    :Creator: R.A. Fisher\n",
      "    :Donor: Michael Marshall (MARSHALL%PLU@io.arc.nasa.gov)\n",
      "    :Date: July, 1988\n",
      "\n",
      "The famous Iris database, first used by Sir R.A. Fisher. The dataset is taken\n",
      "from Fisher's paper. Note that it's the same as in R, but not as in the UCI\n",
      "Machine Learning Repository, which has two wrong data points.\n",
      "\n",
      "This is perhaps the best known database to be found in the\n",
      "pattern recognition literature.  Fisher's paper is a classic in the field and\n",
      "is referenced frequently to this day.  (See Duda & Hart, for example.)  The\n",
      "data set contains 3 classes of 50 instances each, where each class refers to a\n",
      "type of iris plant.  One class is linearly separable from the other 2; the\n",
      "latter are NOT linearly separable from each other.\n",
      "\n",
      ".. topic:: References\n",
      "\n",
      "   - Fisher, R.A. \"The use of multiple measurements in taxonomic problems\"\n",
      "     Annual Eugenics, 7, Part II, 179-188 (1936); also in \"Contributions to\n",
      "     Mathematical Statistics\" (John Wiley, NY, 1950).\n",
      "   - Duda, R.O., & Hart, P.E. (1973) Pattern Classification and Scene Analysis.\n",
      "     (Q327.D83) John Wiley & Sons.  ISBN 0-471-22361-1.  See page 218.\n",
      "   - Dasarathy, B.V. (1980) \"Nosing Around the Neighborhood: A New System\n",
      "     Structure and Classification Rule for Recognition in Partially Exposed\n",
      "     Environments\".  IEEE Transactions on Pattern Analysis and Machine\n",
      "     Intelligence, Vol. PAMI-2, No. 1, 67-71.\n",
      "   - Gates, G.W. (1972) \"The Reduced Nearest Neighbor Rule\".  IEEE Transactions\n",
      "     on Information Theory, May 1972, 431-433.\n",
      "   - See also: 1988 MLC Proceedings, 54-64.  Cheeseman et al\"s AUTOCLASS II\n",
      "     conceptual clustering system finds 3 classes in the data.\n",
      "   - Many, many more ...\n"
     ]
    }
   ],
   "source": [
    "# LOAD DATA\n",
    "dSet = datasets.load_iris() #datasets.load tem outros exemplos\n",
    "print(dSet.keys())\n",
    "print(dSet.DESCR)\n",
    "\n",
    "data = dSet.data\n",
    "target = dSet.target\n",
    "tgNames = dSet.target_names\n",
    "# print(tgNames)"
   ]
  },
  {
   "cell_type": "code",
   "execution_count": 3,
   "id": "steady-vampire",
   "metadata": {},
   "outputs": [
    {
     "name": "stdout",
     "output_type": "stream",
     "text": [
      "DATA\n",
      "(150, 4)\n",
      "\n",
      "TARGET\n",
      "(150,)\n",
      "\n"
     ]
    }
   ],
   "source": [
    "# VIEW DATA\n",
    "print('DATA')\n",
    "print(data.shape)\n",
    "print()\n",
    "\n",
    "print('TARGET')\n",
    "print(target.shape)\n",
    "print()"
   ]
  },
  {
   "cell_type": "code",
   "execution_count": 4,
   "id": "played-water",
   "metadata": {},
   "outputs": [],
   "source": [
    "# SPLIT - TEST & TRAIN\n",
    "XTrain, XTest, yTrain, yTest = train_test_split(data, target, test_size=0.7, random_state=42)"
   ]
  },
  {
   "cell_type": "code",
   "execution_count": 6,
   "id": "actual-viewer",
   "metadata": {},
   "outputs": [],
   "source": [
    "#CLASSIFIERS\n",
    "cls_decTree = DecisionTreeClassifier()\n",
    "cls_naive = GaussianNB()\n",
    "cls_logreg = LogisticRegression(C=1, solver='lbfgs')\n",
    "cls_knn = KNeighborsClassifier(n_neighbors=5)\n",
    "cls_mlp = MLPClassifier(hidden_layer_sizes=2)\n",
    "cls_dm = DummyClassifier()"
   ]
  },
  {
   "cell_type": "code",
   "execution_count": 7,
   "id": "massive-equation",
   "metadata": {},
   "outputs": [
    {
     "data": {
      "text/plain": [
       "Pipeline(steps=[('standardscaler', StandardScaler()),\n",
       "                ('logisticregression', LogisticRegression(C=1))])"
      ]
     },
     "execution_count": 7,
     "metadata": {},
     "output_type": "execute_result"
    }
   ],
   "source": [
    "# PREPROCESSING - escolher um para rodar o código corretamente\n",
    "#pipe_cls = make_pipeline(StandardScaler(), cls_decTree)\n",
    "#pipe_cls = make_pipeline(StandardScaler(), cls_naive)\n",
    "pipe_cls = make_pipeline(StandardScaler(), cls_logreg) #--------funcionando-------\n",
    "#pipe_cls = make_pipeline(StandardScaler(), cls_knn)\n",
    "#pipe_cls = make_pipeline(StandardScaler(), cls_mlp)\n",
    "#pipe_cls = cls_dm\n",
    "\n",
    "# CLASSIFICATION\n",
    "pipe_cls.fit(XTrain, yTrain)"
   ]
  },
  {
   "cell_type": "code",
   "execution_count": 8,
   "id": "industrial-shopper",
   "metadata": {},
   "outputs": [
    {
     "name": "stdout",
     "output_type": "stream",
     "text": [
      "PREDICT\n",
      "[1 0 2 1 1 0 1 2 1 1 2 0 0 0 0 1 2 1 1 2 0 2 0 2 2 2 2 2 0 0 0 0 1 0 0 2 1\n",
      " 0 0 0 2 1 1 0 0 1 1 2 1 2 1 2 1 0 2 1 0 0 0 1 2 0 0 0 1 0 1 2 0 1 2 0 2 2\n",
      " 1 1 2 1 0 1 2 0 0 1 2 0 2 0 0 2 1 2 2 1 2 1 0 0 1 2 0 0 0 1 2]\n",
      "\n"
     ]
    }
   ],
   "source": [
    "# PREDICT\n",
    "predict = pipe_cls.predict(XTest)\n",
    "print('PREDICT')\n",
    "print(predict)\n",
    "print()"
   ]
  },
  {
   "cell_type": "code",
   "execution_count": 9,
   "id": "athletic-validity",
   "metadata": {},
   "outputs": [
    {
     "name": "stdout",
     "output_type": "stream",
     "text": [
      "Report\n",
      "              precision    recall  f1-score   support\n",
      "\n",
      "      setosa       1.00      1.00      1.00        40\n",
      "  versicolor       0.91      0.91      0.91        33\n",
      "   virginica       0.91      0.91      0.91        32\n",
      "\n",
      "    accuracy                           0.94       105\n",
      "   macro avg       0.94      0.94      0.94       105\n",
      "weighted avg       0.94      0.94      0.94       105\n",
      "\n"
     ]
    }
   ],
   "source": [
    "# RELEVANCE\n",
    "print('Report')\n",
    "# print(classification_report(yTest, predict, zero_division=0))\n",
    "print(classification_report(yTest, predict, target_names=tgNames, zero_division=0))"
   ]
  },
  {
   "cell_type": "code",
   "execution_count": 10,
   "id": "tender-ground",
   "metadata": {},
   "outputs": [
    {
     "name": "stdout",
     "output_type": "stream",
     "text": [
      "Confusion Matrix\n",
      "[[40  0  0]\n",
      " [ 0 30  3]\n",
      " [ 0  3 29]]\n",
      "\n"
     ]
    }
   ],
   "source": [
    "print('Confusion Matrix')\n",
    "print(confusion_matrix(yTest, predict))\n",
    "print()"
   ]
  },
  {
   "cell_type": "code",
   "execution_count": 11,
   "id": "actual-bradford",
   "metadata": {},
   "outputs": [],
   "source": [
    "# TUNNING\n",
    "scores = {'accuracy', 'precision_micro', 'recall_micro', 'f1_micro'}\n",
    "cv = cross_validate(pipe_cls, data, target, cv=4, scoring = scores)"
   ]
  },
  {
   "cell_type": "code",
   "execution_count": 12,
   "id": "lyric-checkout",
   "metadata": {},
   "outputs": [
    {
     "name": "stdout",
     "output_type": "stream",
     "text": [
      "Accuracy:  [0.97368421 0.97368421 0.89189189 1.        ]\n",
      "Precision:  [0.97368421 0.97368421 0.89189189 1.        ]\n",
      "Recall:  [0.97368421 0.97368421 0.89189189 1.        ]\n",
      "F1-score:  [0.97368421 0.97368421 0.89189189 1.        ]\n"
     ]
    }
   ],
   "source": [
    "print('Accuracy: ', cv['test_accuracy'])\n",
    "print('Precision: ', cv['test_precision_micro'])\n",
    "print('Recall: ', cv['test_recall_micro'])\n",
    "print('F1-score: ', cv['test_f1_micro'])"
   ]
  },
  {
   "cell_type": "code",
   "execution_count": 13,
   "id": "narrative-debut",
   "metadata": {},
   "outputs": [
    {
     "name": "stdout",
     "output_type": "stream",
     "text": [
      "dict_keys(['C', 'class_weight', 'dual', 'fit_intercept', 'intercept_scaling', 'l1_ratio', 'max_iter', 'multi_class', 'n_jobs', 'penalty', 'random_state', 'solver', 'tol', 'verbose', 'warm_start'])\n",
      "dict_keys(['memory', 'steps', 'verbose', 'standardscaler', 'logisticregression', 'standardscaler__copy', 'standardscaler__with_mean', 'standardscaler__with_std', 'logisticregression__C', 'logisticregression__class_weight', 'logisticregression__dual', 'logisticregression__fit_intercept', 'logisticregression__intercept_scaling', 'logisticregression__l1_ratio', 'logisticregression__max_iter', 'logisticregression__multi_class', 'logisticregression__n_jobs', 'logisticregression__penalty', 'logisticregression__random_state', 'logisticregression__solver', 'logisticregression__tol', 'logisticregression__verbose', 'logisticregression__warm_start'])\n",
      "Pipeline(steps=[('standardscaler', StandardScaler()),\n",
      "                ('logisticregression', LogisticRegression(C=1))])\n"
     ]
    }
   ],
   "source": [
    "# AFTER TRAINING\n",
    "print(cls_logreg.get_params().keys())\n",
    "print(pipe_cls.get_params().keys())\n",
    "\n",
    "print(pipe_cls)"
   ]
  },
  {
   "cell_type": "code",
   "execution_count": 14,
   "id": "collaborative-winner",
   "metadata": {},
   "outputs": [
    {
     "data": {
      "text/plain": [
       "GridSearchCV(cv=3,\n",
       "             estimator=Pipeline(steps=[('standardscaler', StandardScaler()),\n",
       "                                       ('logisticregression',\n",
       "                                        LogisticRegression(C=1))]),\n",
       "             param_grid={'logisticregression__C': [0.5, 1, 0.2],\n",
       "                         'logisticregression__fit_intercept': [True, False],\n",
       "                         'logisticregression__solver': ['newton-cg', 'saga',\n",
       "                                                        'sag', 'lbfgs']},\n",
       "             scoring='accuracy')"
      ]
     },
     "execution_count": 14,
     "metadata": {},
     "output_type": "execute_result"
    }
   ],
   "source": [
    "params = {'logisticregression__C': [0.5, 1, 0.2], # é possível explorar outros parâmetros e decidir o melhor conforme a análise da saida\n",
    "          'logisticregression__fit_intercept': [True, False],\n",
    "          'logisticregression__solver': ['newton-cg', 'saga', 'sag','lbfgs']}\n",
    "\n",
    "gs = GridSearchCV(estimator = pipe_cls, param_grid = params, cv = 3, scoring ='accuracy')\n",
    "gs.fit(data, target)"
   ]
  },
  {
   "cell_type": "code",
   "execution_count": 16,
   "id": "technological-production",
   "metadata": {},
   "outputs": [
    {
     "name": "stdout",
     "output_type": "stream",
     "text": [
      "{'logisticregression__C': 1, 'logisticregression__fit_intercept': True, 'logisticregression__solver': 'newton-cg'}\n",
      "0.96\n"
     ]
    }
   ],
   "source": [
    "print(gs.best_params_)\n",
    "print(gs.best_score_)"
   ]
  },
  {
   "cell_type": "code",
   "execution_count": null,
   "id": "plastic-mainland",
   "metadata": {},
   "outputs": [],
   "source": []
  },
  {
   "cell_type": "code",
   "execution_count": null,
   "id": "separate-heath",
   "metadata": {},
   "outputs": [],
   "source": []
  },
  {
   "cell_type": "code",
   "execution_count": null,
   "id": "above-williams",
   "metadata": {},
   "outputs": [],
   "source": []
  }
 ],
 "metadata": {
  "kernelspec": {
   "display_name": "Python 3",
   "language": "python",
   "name": "python3"
  },
  "language_info": {
   "codemirror_mode": {
    "name": "ipython",
    "version": 3
   },
   "file_extension": ".py",
   "mimetype": "text/x-python",
   "name": "python",
   "nbconvert_exporter": "python",
   "pygments_lexer": "ipython3",
   "version": "3.6.13"
  }
 },
 "nbformat": 4,
 "nbformat_minor": 5
}
